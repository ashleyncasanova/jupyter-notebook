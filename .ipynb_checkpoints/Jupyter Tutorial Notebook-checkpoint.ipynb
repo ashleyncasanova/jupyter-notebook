{
 "cells": [
  {
   "cell_type": "markdown",
   "id": "df9f7b8a",
   "metadata": {},
   "source": [
    "# Jupyter Notebook Tutorial\n",
    "___"
   ]
  },
  {
   "cell_type": "markdown",
   "id": "7e6eaa3f",
   "metadata": {},
   "source": [
    "## Table of Contents\n",
    "* [Markdown Cells](#markdown-cells)\n",
    "    * [Introduction to Markdown Cells](#introduction-to-markdown-cells)\n",
    "    * [Anchoring](#anchoring)\n",
    "* [Code Cells](#code-cells)\n",
    "    * [Introduction to Code Cells](#introduction-to-code-cells)\n",
    "    * [Restarting the Kernel and Variables](#restarting-the-kernel-and-variables)\n",
    "    * [Collapsing Cells](#collapsing-cells)\n",
    "    * [Interrupting the Kernel](#interrupting-the-kernel)\n",
    "    * [Load Data Using Pandas](#load-data-using-pandas)\n",
    "    * [Running Bash / Terminal Commands](#running-bash-terminal-commands)\n",
    "    * [Magic Commands](#magic-commands)\n",
    "* [Keyboard Shortcuts](#keyboard-shortcuts)"
   ]
  },
  {
   "cell_type": "markdown",
   "id": "e447d0d5",
   "metadata": {},
   "source": [
    "<a id=\"markdown-cells\"></a>\n",
    "___"
   ]
  },
  {
   "cell_type": "markdown",
   "id": "b19904a5",
   "metadata": {},
   "source": [
    "# **Markdown Cells**"
   ]
  },
  {
   "cell_type": "markdown",
   "id": "7019bbd7",
   "metadata": {},
   "source": [
    "<a id=\"introduction-to-markdown-cells\"></a>"
   ]
  },
  {
   "cell_type": "markdown",
   "id": "2c324c54",
   "metadata": {},
   "source": [
    "## **Introduction to Markdown Cells**"
   ]
  },
  {
   "cell_type": "markdown",
   "id": "3c8c5681",
   "metadata": {},
   "source": [
    "This is a markdown cell.\n",
    "\n",
    "Markdown is basically plain text, except you can **format** it using various special characters.\n",
    "\n",
    "You can have:\n",
    "1. Lists (ordered and unordered)\n",
    "2. Bold text\n",
    "3. Italic text\n",
    "4. Code blocks\n",
    "5. Etc.\n",
    "\n",
    "Here's an example of a code block:\n",
    "```\n",
    "x = \"hello world!\"\n",
    "\n",
    "print(x)\n",
    "```\n",
    "\n",
    "# This is a Header 1\n",
    "\n",
    "Here's some text, including _italics_.\n",
    "\n",
    "## This is a Header 2\n",
    "\n",
    "Here's some other text, with **more bold**.\n",
    "\n",
    ">Note: You may notice that jupyter notebooks does the formating while you are typing, so you dont have to wait to execute the cell to see whats happening."
   ]
  },
  {
   "cell_type": "markdown",
   "id": "898538f2",
   "metadata": {},
   "source": [
    "<a id=\"anchoring\"></a>"
   ]
  },
  {
   "cell_type": "markdown",
   "id": "e78a22ce",
   "metadata": {},
   "source": [
    "## **Anchoring**"
   ]
  },
  {
   "cell_type": "markdown",
   "id": "cc807cd8",
   "metadata": {},
   "source": [
    "To create an internal link we need:\n",
    "1. a destination\n",
    "```markdown\n",
    "[Destination](#destination)\n",
    "```\n",
    "2. an internal hyperlink to the destination\n",
    "```markdown\n",
    "<a id=\"destination\"></a>\n",
    "```\n",
    "\n",
    "\\\n",
    "_Note: See this [tutorial](https://nbviewer.jupyter.org/github/rasbt/python_reference/blob/master/tutorials/table_of_contents_ipython.ipynb) for further explination._"
   ]
  },
  {
   "cell_type": "markdown",
   "id": "4e4c22a8",
   "metadata": {},
   "source": [
    "<a id=\"code-cells\"></a>\n",
    "___"
   ]
  },
  {
   "cell_type": "markdown",
   "id": "d23c5efc",
   "metadata": {},
   "source": [
    "# **Code Cells**"
   ]
  },
  {
   "cell_type": "markdown",
   "id": "8a30a8b3",
   "metadata": {},
   "source": [
    "<a id=\"introduction-to-code-cells\"></a>"
   ]
  },
  {
   "cell_type": "markdown",
   "id": "edc9a110",
   "metadata": {},
   "source": [
    "## **Introduction to Code Cells**"
   ]
  },
  {
   "cell_type": "code",
   "execution_count": 1,
   "id": "66b7682f",
   "metadata": {},
   "outputs": [],
   "source": [
    "#This is a code cell!"
   ]
  },
  {
   "cell_type": "code",
   "execution_count": 2,
   "id": "5316129b",
   "metadata": {},
   "outputs": [
    {
     "name": "stdout",
     "output_type": "stream",
     "text": [
      "hello world!\n"
     ]
    }
   ],
   "source": [
    "#We can use code cells to run python code.\n",
    "x = \"hello world!\"\n",
    "\n",
    "print(x)"
   ]
  },
  {
   "cell_type": "code",
   "execution_count": 3,
   "id": "e343dd5c",
   "metadata": {},
   "outputs": [
    {
     "data": {
      "text/plain": [
       "'hello world!'"
      ]
     },
     "execution_count": 3,
     "metadata": {},
     "output_type": "execute_result"
    }
   ],
   "source": [
    "#Running this cell returns x.\n",
    "x"
   ]
  },
  {
   "cell_type": "markdown",
   "id": "5e3a63a7",
   "metadata": {},
   "source": [
    "<a id=\"restarting-the-kernel-and-variables\"></a>\n",
    "___"
   ]
  },
  {
   "cell_type": "markdown",
   "id": "4c111eda",
   "metadata": {},
   "source": [
    "## **Restarting the Kernel and Variables**"
   ]
  },
  {
   "cell_type": "markdown",
   "id": "7222fa8f",
   "metadata": {},
   "source": [
    "Unlike a normal python script, it is _the order in which the cells are executed that matters_; rather than cell order.\n",
    "Meaning, if we delete a cell defining some variable, x, we can still access that variable in other cells.\n",
    "This is because **Jupyter Notebook uses a single python kernel to maintain and store all of the variables used**.\n",
    "Jupyter Notebook keeps track of this order in the square brackets to the left of each code cell."
   ]
  },
  {
   "cell_type": "code",
   "execution_count": 4,
   "id": "424bbe66",
   "metadata": {
    "scrolled": true
   },
   "outputs": [
    {
     "data": {
      "text/plain": [
       "['In',\n",
       " 'Out',\n",
       " '_',\n",
       " '_3',\n",
       " '__',\n",
       " '___',\n",
       " '__builtin__',\n",
       " '__builtins__',\n",
       " '__doc__',\n",
       " '__loader__',\n",
       " '__name__',\n",
       " '__package__',\n",
       " '__spec__',\n",
       " '_dh',\n",
       " '_i',\n",
       " '_i1',\n",
       " '_i2',\n",
       " '_i3',\n",
       " '_i4',\n",
       " '_ih',\n",
       " '_ii',\n",
       " '_iii',\n",
       " '_oh',\n",
       " 'exit',\n",
       " 'get_ipython',\n",
       " 'quit',\n",
       " 'x']"
      ]
     },
     "execution_count": 4,
     "metadata": {},
     "output_type": "execute_result"
    }
   ],
   "source": [
    "#We can use the directory function to list all the variables and methods that are available in the current session.\n",
    "dir()"
   ]
  },
  {
   "cell_type": "code",
   "execution_count": 5,
   "id": "06b348a5",
   "metadata": {},
   "outputs": [],
   "source": [
    "#We can delete assigned variables from the kernels memory using the delete function.\n",
    "#If we run dir() after, x should be gone.\n",
    "del(x)"
   ]
  },
  {
   "cell_type": "markdown",
   "id": "740f494c",
   "metadata": {},
   "source": [
    "Just shutting the tab does not close the notebook. It will keep running until we tell it to stop.\n",
    "\n",
    "We can explicitly **shut down** the notebook:\n",
    "1. by going to _file_ and selecting _close and hault_\n",
    "2. from the _dashboard_ by checking the box next to the notebook and clicking _shutdown_\n",
    "3. from the _terminal_ by deactivating our virtual environment"
   ]
  },
  {
   "cell_type": "markdown",
   "id": "5b0f64ac",
   "metadata": {},
   "source": [
    "To **reset** the notebook without shutting it down, go to the kernel tab and click _restart_, effectively rebooting the notebook and deleting the variables from memory.\n",
    "\n",
    "\n"
   ]
  },
  {
   "cell_type": "markdown",
   "id": "40130ebb",
   "metadata": {},
   "source": [
    "To **reset an individual cell**, go to cell > current output > clear"
   ]
  },
  {
   "cell_type": "markdown",
   "id": "ea80ffa3",
   "metadata": {},
   "source": [
    "<a id=\"collapsing-cells\"></a>"
   ]
  },
  {
   "cell_type": "markdown",
   "id": "888cac40",
   "metadata": {},
   "source": [
    "## Collapsing cells"
   ]
  },
  {
   "cell_type": "markdown",
   "id": "49abb67e",
   "metadata": {},
   "source": [
    "We can collapse cells by **clicking the sidebar**, leaving us with a smaller window that we can scroll through."
   ]
  },
  {
   "cell_type": "code",
   "execution_count": 1,
   "id": "47be1605",
   "metadata": {
    "scrolled": true
   },
   "outputs": [
    {
     "name": "stdout",
     "output_type": "stream",
     "text": [
      "0\n",
      "1\n",
      "2\n",
      "3\n",
      "4\n",
      "5\n",
      "6\n",
      "7\n",
      "8\n",
      "9\n",
      "10\n",
      "11\n",
      "12\n",
      "13\n",
      "14\n",
      "15\n",
      "16\n",
      "17\n",
      "18\n",
      "19\n",
      "20\n",
      "21\n",
      "22\n",
      "23\n",
      "24\n",
      "25\n",
      "26\n",
      "27\n",
      "28\n",
      "29\n",
      "30\n",
      "31\n",
      "32\n",
      "33\n",
      "34\n",
      "35\n",
      "36\n",
      "37\n",
      "38\n",
      "39\n",
      "40\n",
      "41\n",
      "42\n",
      "43\n",
      "44\n",
      "45\n",
      "46\n",
      "47\n",
      "48\n",
      "49\n",
      "50\n",
      "51\n",
      "52\n",
      "53\n",
      "54\n",
      "55\n",
      "56\n",
      "57\n",
      "58\n",
      "59\n",
      "60\n",
      "61\n",
      "62\n",
      "63\n",
      "64\n",
      "65\n",
      "66\n",
      "67\n",
      "68\n",
      "69\n",
      "70\n",
      "71\n",
      "72\n",
      "73\n",
      "74\n",
      "75\n",
      "76\n",
      "77\n",
      "78\n",
      "79\n",
      "80\n",
      "81\n",
      "82\n",
      "83\n",
      "84\n",
      "85\n",
      "86\n",
      "87\n",
      "88\n",
      "89\n",
      "90\n",
      "91\n",
      "92\n",
      "93\n",
      "94\n",
      "95\n",
      "96\n",
      "97\n",
      "98\n",
      "99\n"
     ]
    }
   ],
   "source": [
    "for value in range(50):\n",
    "    print(value)"
   ]
  },
  {
   "cell_type": "markdown",
   "id": "b46402ca",
   "metadata": {},
   "source": [
    "<a id=\"interrupting-the-kernel\"></a>"
   ]
  },
  {
   "cell_type": "markdown",
   "id": "5d64500d",
   "metadata": {},
   "source": [
    "## **Interrupting the Kernel**"
   ]
  },
  {
   "cell_type": "markdown",
   "id": "d39c5b58",
   "metadata": {},
   "source": [
    "If we make a mistake or accidentally create an infinite while loop, we can **interupt the kernel** by:\n",
    "1. clicking the _stop button_ in the menue bar\n",
    "2. going to _kernel_ and selecting _interupt kernel_\n",
    "3. using the _keyboard shortcut I,I_"
   ]
  },
  {
   "cell_type": "code",
   "execution_count": 12,
   "id": "000ae02c",
   "metadata": {
    "scrolled": true
   },
   "outputs": [
    {
     "name": "stdout",
     "output_type": "stream",
     "text": [
      "1\n",
      "1\n",
      "1\n",
      "1\n",
      "1\n",
      "1\n",
      "1\n",
      "1\n",
      "1\n",
      "1\n",
      "1\n",
      "1\n",
      "1\n",
      "1\n",
      "1\n",
      "1\n",
      "1\n",
      "1\n",
      "1\n",
      "1\n",
      "1\n"
     ]
    },
    {
     "ename": "KeyboardInterrupt",
     "evalue": "",
     "output_type": "error",
     "traceback": [
      "\u001b[0;31m---------------------------------------------------------------------------\u001b[0m",
      "\u001b[0;31mKeyboardInterrupt\u001b[0m                         Traceback (most recent call last)",
      "\u001b[0;32m/var/folders/91/blh77fzx03q_26vzlcw788pr0000gn/T/ipykernel_76791/644972351.py\u001b[0m in \u001b[0;36m<module>\u001b[0;34m\u001b[0m\n\u001b[1;32m      2\u001b[0m \u001b[0;32mwhile\u001b[0m \u001b[0;32mTrue\u001b[0m\u001b[0;34m:\u001b[0m\u001b[0;34m\u001b[0m\u001b[0;34m\u001b[0m\u001b[0m\n\u001b[1;32m      3\u001b[0m     \u001b[0mprint\u001b[0m\u001b[0;34m(\u001b[0m\u001b[0;36m1\u001b[0m\u001b[0;34m)\u001b[0m\u001b[0;34m\u001b[0m\u001b[0;34m\u001b[0m\u001b[0m\n\u001b[0;32m----> 4\u001b[0;31m     \u001b[0mtime\u001b[0m\u001b[0;34m.\u001b[0m\u001b[0msleep\u001b[0m\u001b[0;34m(\u001b[0m\u001b[0;36m0.2\u001b[0m\u001b[0;34m)\u001b[0m\u001b[0;34m\u001b[0m\u001b[0;34m\u001b[0m\u001b[0m\n\u001b[0m",
      "\u001b[0;31mKeyboardInterrupt\u001b[0m: "
     ]
    }
   ],
   "source": [
    "import time\n",
    "while True:\n",
    "    print(1)\n",
    "    time.sleep(0.2)"
   ]
  },
  {
   "cell_type": "markdown",
   "id": "f6acf5dd",
   "metadata": {},
   "source": [
    "<a id=\"load-data-using-pandas\"></a>"
   ]
  },
  {
   "cell_type": "markdown",
   "id": "bcb26937",
   "metadata": {},
   "source": [
    "## Load Data Using Pandas"
   ]
  },
  {
   "cell_type": "markdown",
   "id": "72d78db5",
   "metadata": {},
   "source": [
    "One of the things you will probably be using Jupyter notebooks for is looking at, transforming and cleaning data.\n",
    "We can download a [real data set](https://www.kaggle.com/ronitf/heart-disease-uci) off of Kaggle, which we can load and view using pandas."
   ]
  },
  {
   "cell_type": "markdown",
   "id": "26847dcd",
   "metadata": {},
   "source": [
    "We can add our data from the downloads folder to our current directory from our terminal using the command\n",
    "```terminal\n",
    "mv ~/Downloads/heart.csv ~/ProjectDataScience/jupyter-tutorial\n",
    "```"
   ]
  },
  {
   "cell_type": "code",
   "execution_count": 13,
   "id": "17e7536e",
   "metadata": {},
   "outputs": [],
   "source": [
    "import pandas as pd"
   ]
  },
  {
   "cell_type": "code",
   "execution_count": 14,
   "id": "aead89c2",
   "metadata": {},
   "outputs": [
    {
     "name": "stdout",
     "output_type": "stream",
     "text": [
      "Jupyter Tutorial Notebook.ipynb  heart.csv\r\n",
      "Untitled.ipynb\r\n"
     ]
    }
   ],
   "source": [
    "#We can use the terminal command to list out the contents of our directory\n",
    "ls"
   ]
  },
  {
   "cell_type": "code",
   "execution_count": 15,
   "id": "ea6bb88d",
   "metadata": {},
   "outputs": [],
   "source": [
    "df = pd.read_csv(\"heart.csv\")"
   ]
  },
  {
   "cell_type": "code",
   "execution_count": 18,
   "id": "17249cc2",
   "metadata": {
    "scrolled": true
   },
   "outputs": [
    {
     "data": {
      "text/html": [
       "<div>\n",
       "<style scoped>\n",
       "    .dataframe tbody tr th:only-of-type {\n",
       "        vertical-align: middle;\n",
       "    }\n",
       "\n",
       "    .dataframe tbody tr th {\n",
       "        vertical-align: top;\n",
       "    }\n",
       "\n",
       "    .dataframe thead th {\n",
       "        text-align: right;\n",
       "    }\n",
       "</style>\n",
       "<table border=\"1\" class=\"dataframe\">\n",
       "  <thead>\n",
       "    <tr style=\"text-align: right;\">\n",
       "      <th></th>\n",
       "      <th>age</th>\n",
       "      <th>sex</th>\n",
       "      <th>cp</th>\n",
       "      <th>trestbps</th>\n",
       "      <th>chol</th>\n",
       "      <th>fbs</th>\n",
       "      <th>restecg</th>\n",
       "      <th>thalach</th>\n",
       "      <th>exang</th>\n",
       "      <th>oldpeak</th>\n",
       "      <th>slope</th>\n",
       "      <th>ca</th>\n",
       "      <th>thal</th>\n",
       "      <th>target</th>\n",
       "    </tr>\n",
       "  </thead>\n",
       "  <tbody>\n",
       "    <tr>\n",
       "      <th>0</th>\n",
       "      <td>63</td>\n",
       "      <td>1</td>\n",
       "      <td>3</td>\n",
       "      <td>145</td>\n",
       "      <td>233</td>\n",
       "      <td>1</td>\n",
       "      <td>0</td>\n",
       "      <td>150</td>\n",
       "      <td>0</td>\n",
       "      <td>2.3</td>\n",
       "      <td>0</td>\n",
       "      <td>0</td>\n",
       "      <td>1</td>\n",
       "      <td>1</td>\n",
       "    </tr>\n",
       "    <tr>\n",
       "      <th>1</th>\n",
       "      <td>37</td>\n",
       "      <td>1</td>\n",
       "      <td>2</td>\n",
       "      <td>130</td>\n",
       "      <td>250</td>\n",
       "      <td>0</td>\n",
       "      <td>1</td>\n",
       "      <td>187</td>\n",
       "      <td>0</td>\n",
       "      <td>3.5</td>\n",
       "      <td>0</td>\n",
       "      <td>0</td>\n",
       "      <td>2</td>\n",
       "      <td>1</td>\n",
       "    </tr>\n",
       "    <tr>\n",
       "      <th>2</th>\n",
       "      <td>41</td>\n",
       "      <td>0</td>\n",
       "      <td>1</td>\n",
       "      <td>130</td>\n",
       "      <td>204</td>\n",
       "      <td>0</td>\n",
       "      <td>0</td>\n",
       "      <td>172</td>\n",
       "      <td>0</td>\n",
       "      <td>1.4</td>\n",
       "      <td>2</td>\n",
       "      <td>0</td>\n",
       "      <td>2</td>\n",
       "      <td>1</td>\n",
       "    </tr>\n",
       "    <tr>\n",
       "      <th>3</th>\n",
       "      <td>56</td>\n",
       "      <td>1</td>\n",
       "      <td>1</td>\n",
       "      <td>120</td>\n",
       "      <td>236</td>\n",
       "      <td>0</td>\n",
       "      <td>1</td>\n",
       "      <td>178</td>\n",
       "      <td>0</td>\n",
       "      <td>0.8</td>\n",
       "      <td>2</td>\n",
       "      <td>0</td>\n",
       "      <td>2</td>\n",
       "      <td>1</td>\n",
       "    </tr>\n",
       "    <tr>\n",
       "      <th>4</th>\n",
       "      <td>57</td>\n",
       "      <td>0</td>\n",
       "      <td>0</td>\n",
       "      <td>120</td>\n",
       "      <td>354</td>\n",
       "      <td>0</td>\n",
       "      <td>1</td>\n",
       "      <td>163</td>\n",
       "      <td>1</td>\n",
       "      <td>0.6</td>\n",
       "      <td>2</td>\n",
       "      <td>0</td>\n",
       "      <td>2</td>\n",
       "      <td>1</td>\n",
       "    </tr>\n",
       "    <tr>\n",
       "      <th>...</th>\n",
       "      <td>...</td>\n",
       "      <td>...</td>\n",
       "      <td>...</td>\n",
       "      <td>...</td>\n",
       "      <td>...</td>\n",
       "      <td>...</td>\n",
       "      <td>...</td>\n",
       "      <td>...</td>\n",
       "      <td>...</td>\n",
       "      <td>...</td>\n",
       "      <td>...</td>\n",
       "      <td>...</td>\n",
       "      <td>...</td>\n",
       "      <td>...</td>\n",
       "    </tr>\n",
       "    <tr>\n",
       "      <th>298</th>\n",
       "      <td>57</td>\n",
       "      <td>0</td>\n",
       "      <td>0</td>\n",
       "      <td>140</td>\n",
       "      <td>241</td>\n",
       "      <td>0</td>\n",
       "      <td>1</td>\n",
       "      <td>123</td>\n",
       "      <td>1</td>\n",
       "      <td>0.2</td>\n",
       "      <td>1</td>\n",
       "      <td>0</td>\n",
       "      <td>3</td>\n",
       "      <td>0</td>\n",
       "    </tr>\n",
       "    <tr>\n",
       "      <th>299</th>\n",
       "      <td>45</td>\n",
       "      <td>1</td>\n",
       "      <td>3</td>\n",
       "      <td>110</td>\n",
       "      <td>264</td>\n",
       "      <td>0</td>\n",
       "      <td>1</td>\n",
       "      <td>132</td>\n",
       "      <td>0</td>\n",
       "      <td>1.2</td>\n",
       "      <td>1</td>\n",
       "      <td>0</td>\n",
       "      <td>3</td>\n",
       "      <td>0</td>\n",
       "    </tr>\n",
       "    <tr>\n",
       "      <th>300</th>\n",
       "      <td>68</td>\n",
       "      <td>1</td>\n",
       "      <td>0</td>\n",
       "      <td>144</td>\n",
       "      <td>193</td>\n",
       "      <td>1</td>\n",
       "      <td>1</td>\n",
       "      <td>141</td>\n",
       "      <td>0</td>\n",
       "      <td>3.4</td>\n",
       "      <td>1</td>\n",
       "      <td>2</td>\n",
       "      <td>3</td>\n",
       "      <td>0</td>\n",
       "    </tr>\n",
       "    <tr>\n",
       "      <th>301</th>\n",
       "      <td>57</td>\n",
       "      <td>1</td>\n",
       "      <td>0</td>\n",
       "      <td>130</td>\n",
       "      <td>131</td>\n",
       "      <td>0</td>\n",
       "      <td>1</td>\n",
       "      <td>115</td>\n",
       "      <td>1</td>\n",
       "      <td>1.2</td>\n",
       "      <td>1</td>\n",
       "      <td>1</td>\n",
       "      <td>3</td>\n",
       "      <td>0</td>\n",
       "    </tr>\n",
       "    <tr>\n",
       "      <th>302</th>\n",
       "      <td>57</td>\n",
       "      <td>0</td>\n",
       "      <td>1</td>\n",
       "      <td>130</td>\n",
       "      <td>236</td>\n",
       "      <td>0</td>\n",
       "      <td>0</td>\n",
       "      <td>174</td>\n",
       "      <td>0</td>\n",
       "      <td>0.0</td>\n",
       "      <td>1</td>\n",
       "      <td>1</td>\n",
       "      <td>2</td>\n",
       "      <td>0</td>\n",
       "    </tr>\n",
       "  </tbody>\n",
       "</table>\n",
       "<p>303 rows × 14 columns</p>\n",
       "</div>"
      ],
      "text/plain": [
       "     age  sex  cp  trestbps  chol  fbs  restecg  thalach  exang  oldpeak  \\\n",
       "0     63    1   3       145   233    1        0      150      0      2.3   \n",
       "1     37    1   2       130   250    0        1      187      0      3.5   \n",
       "2     41    0   1       130   204    0        0      172      0      1.4   \n",
       "3     56    1   1       120   236    0        1      178      0      0.8   \n",
       "4     57    0   0       120   354    0        1      163      1      0.6   \n",
       "..   ...  ...  ..       ...   ...  ...      ...      ...    ...      ...   \n",
       "298   57    0   0       140   241    0        1      123      1      0.2   \n",
       "299   45    1   3       110   264    0        1      132      0      1.2   \n",
       "300   68    1   0       144   193    1        1      141      0      3.4   \n",
       "301   57    1   0       130   131    0        1      115      1      1.2   \n",
       "302   57    0   1       130   236    0        0      174      0      0.0   \n",
       "\n",
       "     slope  ca  thal  target  \n",
       "0        0   0     1       1  \n",
       "1        0   0     2       1  \n",
       "2        2   0     2       1  \n",
       "3        2   0     2       1  \n",
       "4        2   0     2       1  \n",
       "..     ...  ..   ...     ...  \n",
       "298      1   0     3       0  \n",
       "299      1   0     3       0  \n",
       "300      1   2     3       0  \n",
       "301      1   1     3       0  \n",
       "302      1   1     2       0  \n",
       "\n",
       "[303 rows x 14 columns]"
      ]
     },
     "execution_count": 18,
     "metadata": {},
     "output_type": "execute_result"
    }
   ],
   "source": [
    "#To view our data in table form\n",
    "df"
   ]
  },
  {
   "cell_type": "code",
   "execution_count": 19,
   "id": "5c428c74",
   "metadata": {},
   "outputs": [
    {
     "data": {
      "text/html": [
       "<div>\n",
       "<style scoped>\n",
       "    .dataframe tbody tr th:only-of-type {\n",
       "        vertical-align: middle;\n",
       "    }\n",
       "\n",
       "    .dataframe tbody tr th {\n",
       "        vertical-align: top;\n",
       "    }\n",
       "\n",
       "    .dataframe thead th {\n",
       "        text-align: right;\n",
       "    }\n",
       "</style>\n",
       "<table border=\"1\" class=\"dataframe\">\n",
       "  <thead>\n",
       "    <tr style=\"text-align: right;\">\n",
       "      <th></th>\n",
       "      <th>age</th>\n",
       "      <th>sex</th>\n",
       "      <th>cp</th>\n",
       "      <th>trestbps</th>\n",
       "      <th>chol</th>\n",
       "      <th>fbs</th>\n",
       "      <th>restecg</th>\n",
       "      <th>thalach</th>\n",
       "      <th>exang</th>\n",
       "      <th>oldpeak</th>\n",
       "      <th>slope</th>\n",
       "      <th>ca</th>\n",
       "      <th>thal</th>\n",
       "      <th>target</th>\n",
       "    </tr>\n",
       "  </thead>\n",
       "  <tbody>\n",
       "    <tr>\n",
       "      <th>0</th>\n",
       "      <td>63</td>\n",
       "      <td>1</td>\n",
       "      <td>3</td>\n",
       "      <td>145</td>\n",
       "      <td>233</td>\n",
       "      <td>1</td>\n",
       "      <td>0</td>\n",
       "      <td>150</td>\n",
       "      <td>0</td>\n",
       "      <td>2.3</td>\n",
       "      <td>0</td>\n",
       "      <td>0</td>\n",
       "      <td>1</td>\n",
       "      <td>1</td>\n",
       "    </tr>\n",
       "    <tr>\n",
       "      <th>1</th>\n",
       "      <td>37</td>\n",
       "      <td>1</td>\n",
       "      <td>2</td>\n",
       "      <td>130</td>\n",
       "      <td>250</td>\n",
       "      <td>0</td>\n",
       "      <td>1</td>\n",
       "      <td>187</td>\n",
       "      <td>0</td>\n",
       "      <td>3.5</td>\n",
       "      <td>0</td>\n",
       "      <td>0</td>\n",
       "      <td>2</td>\n",
       "      <td>1</td>\n",
       "    </tr>\n",
       "    <tr>\n",
       "      <th>2</th>\n",
       "      <td>41</td>\n",
       "      <td>0</td>\n",
       "      <td>1</td>\n",
       "      <td>130</td>\n",
       "      <td>204</td>\n",
       "      <td>0</td>\n",
       "      <td>0</td>\n",
       "      <td>172</td>\n",
       "      <td>0</td>\n",
       "      <td>1.4</td>\n",
       "      <td>2</td>\n",
       "      <td>0</td>\n",
       "      <td>2</td>\n",
       "      <td>1</td>\n",
       "    </tr>\n",
       "    <tr>\n",
       "      <th>3</th>\n",
       "      <td>56</td>\n",
       "      <td>1</td>\n",
       "      <td>1</td>\n",
       "      <td>120</td>\n",
       "      <td>236</td>\n",
       "      <td>0</td>\n",
       "      <td>1</td>\n",
       "      <td>178</td>\n",
       "      <td>0</td>\n",
       "      <td>0.8</td>\n",
       "      <td>2</td>\n",
       "      <td>0</td>\n",
       "      <td>2</td>\n",
       "      <td>1</td>\n",
       "    </tr>\n",
       "    <tr>\n",
       "      <th>4</th>\n",
       "      <td>57</td>\n",
       "      <td>0</td>\n",
       "      <td>0</td>\n",
       "      <td>120</td>\n",
       "      <td>354</td>\n",
       "      <td>0</td>\n",
       "      <td>1</td>\n",
       "      <td>163</td>\n",
       "      <td>1</td>\n",
       "      <td>0.6</td>\n",
       "      <td>2</td>\n",
       "      <td>0</td>\n",
       "      <td>2</td>\n",
       "      <td>1</td>\n",
       "    </tr>\n",
       "  </tbody>\n",
       "</table>\n",
       "</div>"
      ],
      "text/plain": [
       "   age  sex  cp  trestbps  chol  fbs  restecg  thalach  exang  oldpeak  slope  \\\n",
       "0   63    1   3       145   233    1        0      150      0      2.3      0   \n",
       "1   37    1   2       130   250    0        1      187      0      3.5      0   \n",
       "2   41    0   1       130   204    0        0      172      0      1.4      2   \n",
       "3   56    1   1       120   236    0        1      178      0      0.8      2   \n",
       "4   57    0   0       120   354    0        1      163      1      0.6      2   \n",
       "\n",
       "   ca  thal  target  \n",
       "0   0     1       1  \n",
       "1   0     2       1  \n",
       "2   0     2       1  \n",
       "3   0     2       1  \n",
       "4   0     2       1  "
      ]
     },
     "execution_count": 19,
     "metadata": {},
     "output_type": "execute_result"
    }
   ],
   "source": [
    "#To look at the first five rows of data\n",
    "df.head()"
   ]
  },
  {
   "cell_type": "markdown",
   "id": "1b35ceba",
   "metadata": {},
   "source": [
    "<a id=\"running-bash-terminal-commands\"></a>"
   ]
  },
  {
   "cell_type": "markdown",
   "id": "ca168386",
   "metadata": {},
   "source": [
    "## Running Bash / Terminal Commands"
   ]
  },
  {
   "cell_type": "markdown",
   "id": "c4fdaa56",
   "metadata": {},
   "source": [
    "Even though code cells are designed to run python code, Jupyter Notebook allows us to run terminal/bash commands."
   ]
  },
  {
   "cell_type": "code",
   "execution_count": 1,
   "id": "8de62be2",
   "metadata": {},
   "outputs": [
    {
     "name": "stdout",
     "output_type": "stream",
     "text": [
      "mkdir: test-directory: File exists\r\n"
     ]
    }
   ],
   "source": [
    "#Most terminal/bash commands require a special syntax.\n",
    "!mkdir test-directory"
   ]
  },
  {
   "cell_type": "code",
   "execution_count": 5,
   "id": "a614fc98",
   "metadata": {},
   "outputs": [
    {
     "name": "stdout",
     "output_type": "stream",
     "text": [
      "Jupyter Tutorial Notebook.ipynb heart.csv\r\n",
      "Untitled.ipynb                  \u001b[1m\u001b[36mtest-directory\u001b[m\u001b[m\r\n"
     ]
    }
   ],
   "source": [
    "#List function does not require special syntax.\n",
    "!ls"
   ]
  },
  {
   "cell_type": "code",
   "execution_count": 6,
   "id": "c2eceb1a",
   "metadata": {
    "scrolled": true
   },
   "outputs": [
    {
     "name": "stdout",
     "output_type": "stream",
     "text": [
      "Collecting seaborn\n",
      "  Downloading seaborn-0.11.2-py3-none-any.whl (292 kB)\n",
      "\u001b[K     |████████████████████████████████| 292 kB 1.2 MB/s eta 0:00:01\n",
      "\u001b[?25hCollecting scipy>=1.0\n",
      "  Downloading scipy-1.7.1-cp39-cp39-macosx_10_9_x86_64.whl (32.8 MB)\n",
      "\u001b[K     |████████████████████████████████| 32.8 MB 7.7 MB/s eta 0:00:01\n",
      "\u001b[?25hRequirement already satisfied: pandas>=0.23 in /Users/ashleycasanova/opt/anaconda3/envs/jupyter-env/lib/python3.9/site-packages (from seaborn) (1.3.2)\n",
      "Collecting matplotlib>=2.2\n",
      "  Downloading matplotlib-3.4.3-cp39-cp39-macosx_10_9_x86_64.whl (7.2 MB)\n",
      "\u001b[K     |████████████████████████████████| 7.2 MB 9.2 MB/s eta 0:00:01\n",
      "\u001b[?25hRequirement already satisfied: numpy>=1.15 in /Users/ashleycasanova/opt/anaconda3/envs/jupyter-env/lib/python3.9/site-packages (from seaborn) (1.20.3)\n",
      "Collecting cycler>=0.10\n",
      "  Downloading cycler-0.10.0-py2.py3-none-any.whl (6.5 kB)\n",
      "Collecting kiwisolver>=1.0.1\n",
      "  Downloading kiwisolver-1.3.2-cp39-cp39-macosx_10_9_x86_64.whl (61 kB)\n",
      "\u001b[K     |████████████████████████████████| 61 kB 1.6 MB/s  eta 0:00:01\n",
      "\u001b[?25hRequirement already satisfied: pyparsing>=2.2.1 in /Users/ashleycasanova/opt/anaconda3/envs/jupyter-env/lib/python3.9/site-packages (from matplotlib>=2.2->seaborn) (2.4.7)\n",
      "Requirement already satisfied: python-dateutil>=2.7 in /Users/ashleycasanova/opt/anaconda3/envs/jupyter-env/lib/python3.9/site-packages (from matplotlib>=2.2->seaborn) (2.8.2)\n",
      "Collecting pillow>=6.2.0\n",
      "  Downloading Pillow-8.3.2-cp39-cp39-macosx_10_10_x86_64.whl (3.0 MB)\n",
      "\u001b[K     |████████████████████████████████| 3.0 MB 13.6 MB/s eta 0:00:01\n",
      "\u001b[?25hRequirement already satisfied: six in /Users/ashleycasanova/opt/anaconda3/envs/jupyter-env/lib/python3.9/site-packages (from cycler>=0.10->matplotlib>=2.2->seaborn) (1.16.0)\n",
      "Requirement already satisfied: pytz>=2017.3 in /Users/ashleycasanova/opt/anaconda3/envs/jupyter-env/lib/python3.9/site-packages (from pandas>=0.23->seaborn) (2021.1)\n",
      "Installing collected packages: pillow, kiwisolver, cycler, scipy, matplotlib, seaborn\n",
      "Successfully installed cycler-0.10.0 kiwisolver-1.3.2 matplotlib-3.4.3 pillow-8.3.2 scipy-1.7.1 seaborn-0.11.2\n"
     ]
    }
   ],
   "source": [
    "#We can use this to install a new package, such as the data visualization library seaborn.\n",
    "!pip install seaborn"
   ]
  },
  {
   "cell_type": "markdown",
   "id": "18e73eed",
   "metadata": {},
   "source": [
    "<a id=\"magic-commands\"></a>"
   ]
  },
  {
   "cell_type": "markdown",
   "id": "4ee6d884",
   "metadata": {},
   "source": [
    "## Magic Commands"
   ]
  },
  {
   "cell_type": "markdown",
   "id": "604f6199",
   "metadata": {},
   "source": [
    "Magic commands are special commands, outside of standard python code, available in Jupiter Notebook.\n",
    "\n",
    "A comprehensive list of built in magic commands can be found [here](https://ipython.readthedocs.io/en/stable/interactive/magics.html)."
   ]
  },
  {
   "cell_type": "markdown",
   "id": "26cf5070",
   "metadata": {},
   "source": [
    "One useful magic command is **%debug**, which can be a useful diagnostic tool if you accidentally break your code.\n",
    "\n",
    "For example:"
   ]
  },
  {
   "cell_type": "code",
   "execution_count": 7,
   "id": "7706b630",
   "metadata": {},
   "outputs": [
    {
     "ename": "ZeroDivisionError",
     "evalue": "division by zero",
     "output_type": "error",
     "traceback": [
      "\u001b[0;31m---------------------------------------------------------------------------\u001b[0m",
      "\u001b[0;31mZeroDivisionError\u001b[0m                         Traceback (most recent call last)",
      "\u001b[0;32m/var/folders/91/blh77fzx03q_26vzlcw788pr0000gn/T/ipykernel_79142/3088821342.py\u001b[0m in \u001b[0;36m<module>\u001b[0;34m\u001b[0m\n\u001b[1;32m      3\u001b[0m \u001b[0;34m\u001b[0m\u001b[0m\n\u001b[1;32m      4\u001b[0m \u001b[0;32mif\u001b[0m \u001b[0my\u001b[0m\u001b[0;34m:\u001b[0m\u001b[0;34m\u001b[0m\u001b[0;34m\u001b[0m\u001b[0m\n\u001b[0;32m----> 5\u001b[0;31m     \u001b[0mz\u001b[0m \u001b[0;34m=\u001b[0m \u001b[0;36m1\u001b[0m \u001b[0;34m/\u001b[0m \u001b[0;36m0\u001b[0m\u001b[0;34m\u001b[0m\u001b[0;34m\u001b[0m\u001b[0m\n\u001b[0m",
      "\u001b[0;31mZeroDivisionError\u001b[0m: division by zero"
     ]
    }
   ],
   "source": [
    "x = \"hello world!\"\n",
    "y = True\n",
    "\n",
    "if y:\n",
    "    z = 1 / 0"
   ]
  },
  {
   "cell_type": "code",
   "execution_count": null,
   "id": "1a9ab487",
   "metadata": {},
   "outputs": [
    {
     "name": "stdout",
     "output_type": "stream",
     "text": [
      "> \u001b[0;32m/var/folders/91/blh77fzx03q_26vzlcw788pr0000gn/T/ipykernel_79142/3088821342.py\u001b[0m(5)\u001b[0;36m<module>\u001b[0;34m()\u001b[0m\n",
      "\u001b[0;32m      1 \u001b[0;31m\u001b[0mx\u001b[0m \u001b[0;34m=\u001b[0m \u001b[0;34m\"hello world!\"\u001b[0m\u001b[0;34m\u001b[0m\u001b[0;34m\u001b[0m\u001b[0m\n",
      "\u001b[0m\u001b[0;32m      2 \u001b[0;31m\u001b[0my\u001b[0m \u001b[0;34m=\u001b[0m \u001b[0;32mTrue\u001b[0m\u001b[0;34m\u001b[0m\u001b[0;34m\u001b[0m\u001b[0m\n",
      "\u001b[0m\u001b[0;32m      3 \u001b[0;31m\u001b[0;34m\u001b[0m\u001b[0m\n",
      "\u001b[0m\u001b[0;32m      4 \u001b[0;31m\u001b[0;32mif\u001b[0m \u001b[0my\u001b[0m\u001b[0;34m:\u001b[0m\u001b[0;34m\u001b[0m\u001b[0;34m\u001b[0m\u001b[0m\n",
      "\u001b[0m\u001b[0;32m----> 5 \u001b[0;31m    \u001b[0mz\u001b[0m \u001b[0;34m=\u001b[0m \u001b[0;36m1\u001b[0m \u001b[0;34m/\u001b[0m \u001b[0;36m0\u001b[0m\u001b[0;34m\u001b[0m\u001b[0;34m\u001b[0m\u001b[0m\n",
      "\u001b[0m\n",
      "ipdb> y = True\n",
      "ipdb> z = 1 / 0\n",
      "*** ZeroDivisionError: division by zero\n"
     ]
    }
   ],
   "source": [
    "%debug"
   ]
  },
  {
   "cell_type": "markdown",
   "id": "308a4297",
   "metadata": {},
   "source": [
    "<a id=\"keyboard-shortcuts\"></a>"
   ]
  },
  {
   "cell_type": "markdown",
   "id": "02823ddf",
   "metadata": {},
   "source": [
    "## **Keyboard Shortcuts**"
   ]
  },
  {
   "cell_type": "markdown",
   "id": "745faa97",
   "metadata": {},
   "source": [
    "We can be much more efficient if we learn a handfull of useful **keyboard shortcuts**.\n",
    "\n",
    "You can access keyboard shortcuts \n",
    "1. from the menue by going to help > keyboard shortcuts\n",
    "2. using the shortcut H, in command mode"
   ]
  },
  {
   "cell_type": "markdown",
   "id": "74162985",
   "metadata": {},
   "source": [
    "**Useful Keyboard Shortcuts**\n",
    "\n",
    "|Edit Mode Shortcut|Definition|\n",
    "|---|---|\n",
    "|Esc|Enables command mode|\n",
    "|Command + S|Save and checkpoint|\n",
    "\n",
    "|Command Mode Shortcut|Definition|\n",
    "|---|---|\n",
    "|H|Opens up keyboard shortcuts|\n",
    "|Enter|Enables edit mode|\n",
    "|A|Inserts cell above|\n",
    "|B|Inserts cell below|\n",
    "|M|Change cell to markdown|\n",
    "|Y|Change cell to code|\n",
    "|Shift + Enter|Run cell|\n",
    "|I,I|Interupt Kernel|\n",
    "|Command + S|Save and checkpoint|\n",
    "|S|Save and checkpoint|"
   ]
  }
 ],
 "metadata": {
  "kernelspec": {
   "display_name": "Python 3",
   "language": "python",
   "name": "python3"
  },
  "language_info": {
   "codemirror_mode": {
    "name": "ipython",
    "version": 3
   },
   "file_extension": ".py",
   "mimetype": "text/x-python",
   "name": "python",
   "nbconvert_exporter": "python",
   "pygments_lexer": "ipython3",
   "version": "3.8.8"
  }
 },
 "nbformat": 4,
 "nbformat_minor": 5
}
